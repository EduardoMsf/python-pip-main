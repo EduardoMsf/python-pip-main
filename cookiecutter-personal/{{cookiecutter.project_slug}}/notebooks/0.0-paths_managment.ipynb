{
 "cells": [
  {
   "cell_type": "code",
   "execution_count": 10,
   "metadata": {},
   "outputs": [],
   "source": [
    "import os"
   ]
  },
  {
   "cell_type": "code",
   "execution_count": 11,
   "metadata": {},
   "outputs": [],
   "source": [
    "CURRENT_DIR = os.getcwd() #Ruta actual de trabajo\n",
    "DATA_DIR = os.path.join(CURRENT_DIR, os.pardir, \"data\", \"raw\") #Ruta objetivo (os.pardir: ruta padre)"
   ]
  },
  {
   "cell_type": "code",
   "execution_count": 16,
   "metadata": {},
   "outputs": [
    {
     "data": {
      "text/plain": [
       "'/home/eduardo/Documents/python-scripts/cookiecutter-personal/{{cookiecutter.project_slug}}/notebooks/../data/raw'"
      ]
     },
     "execution_count": 16,
     "metadata": {},
     "output_type": "execute_result"
    }
   ],
   "source": [
    "# os.path.exists(DATA_DIR)\n",
    "# os.path.isdir(DATA_DIR)\n",
    "DATA_DIR"
   ]
  },
  {
   "cell_type": "markdown",
   "metadata": {},
   "source": [
    "Pathlib\n"
   ]
  },
  {
   "cell_type": "code",
   "execution_count": 17,
   "metadata": {},
   "outputs": [],
   "source": [
    "import pathlib"
   ]
  },
  {
   "cell_type": "code",
   "execution_count": 20,
   "metadata": {},
   "outputs": [],
   "source": [
    "CURRENT_DIR = pathlib.Path().resolve()"
   ]
  },
  {
   "cell_type": "code",
   "execution_count": 21,
   "metadata": {},
   "outputs": [
    {
     "data": {
      "text/plain": [
       "PosixPath('/home/eduardo/Documents/python-scripts/cookiecutter-personal/{{cookiecutter.project_slug}}')"
      ]
     },
     "execution_count": 21,
     "metadata": {},
     "output_type": "execute_result"
    }
   ],
   "source": [
    "DATA_DIR = CURRENT_DIR.parent.joinpath(\"data\", \"raw\")\n",
    "DATA_DIR.is_dir()"
   ]
  }
 ],
 "metadata": {
  "kernelspec": {
   "display_name": "cookiecutter-personal",
   "language": "python",
   "name": "python3"
  },
  "language_info": {
   "codemirror_mode": {
    "name": "ipython",
    "version": 3
   },
   "file_extension": ".py",
   "mimetype": "text/x-python",
   "name": "python",
   "nbconvert_exporter": "python",
   "pygments_lexer": "ipython3",
   "version": "3.12.6"
  }
 },
 "nbformat": 4,
 "nbformat_minor": 2
}
